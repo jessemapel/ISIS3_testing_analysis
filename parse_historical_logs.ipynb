{
 "cells": [
  {
   "cell_type": "code",
   "execution_count": 95,
   "metadata": {
    "collapsed": true
   },
   "outputs": [],
   "source": [
    "%matplotlib inline\n",
    "import matplotlib.pyplot as plt\n",
    "import pandas as pd\n",
    "import os, glob, re, datetime"
   ]
  },
  {
   "cell_type": "code",
   "execution_count": 60,
   "metadata": {},
   "outputs": [],
   "source": [
    "unit_test_regex = re.compile('Testing \\[(\\w*)\\]\\s*(Ok|Failed)')\n",
    "\n",
    "def parse_unit_log(filename):\n",
    "    results = {}\n",
    "    with open(filename) as fh:\n",
    "        for line in fh:\n",
    "            match = unit_test_regex.search(line)\n",
    "            if match:\n",
    "                results[match.group(1)] = (match.group(2) == 'Ok')\n",
    "    return results"
   ]
  },
  {
   "cell_type": "code",
   "execution_count": 61,
   "metadata": {
    "collapsed": true
   },
   "outputs": [],
   "source": [
    "app_test_regex = re.compile('Testing \\[(\\w*)\\]')\n",
    "app_test_case_regex = re.compile('(OK|Failed) ... Case \\[(\\w*)\\]')\n",
    "\n",
    "def parse_app_log(filename):\n",
    "    results = {}\n",
    "    with open(filename) as fh:\n",
    "        for line in fh:\n",
    "            app_match = app_test_regex.search(line)\n",
    "            if app_match:\n",
    "                current_app = app_match.group(1)\n",
    "            case_match = app_test_case_regex.search(line)\n",
    "            if case_match:\n",
    "                results['{}_{}'.format(current_app, case_match.group(2))] = (case_match.group(1) == 'OK')\n",
    "    return results"
   ]
  },
  {
   "cell_type": "code",
   "execution_count": 62,
   "metadata": {
    "collapsed": true
   },
   "outputs": [],
   "source": [
    "cat_package_regex = re.compile('Working on Package \\[(\\w*)\\]')\n",
    "cat_test_regex = re.compile('(OK|Failed) ... Case \\[(\\w*)\\]')\n",
    "\n",
    "def parse_cat_log(filename):\n",
    "    results = {}\n",
    "    with open(filename) as fh:\n",
    "        for line in fh:\n",
    "            package_match = cat_package_regex.search(line)\n",
    "            if package_match:\n",
    "                current_package = package_match.group(1)\n",
    "            test_match = cat_test_regex.search(line)\n",
    "            if test_match:\n",
    "                results['{}_{}'.format(current_package, test_match.group(2))] = (test_match.group(1) == 'OK')\n",
    "    return results"
   ]
  },
  {
   "cell_type": "code",
   "execution_count": 56,
   "metadata": {
    "collapsed": true
   },
   "outputs": [],
   "source": [
    "date_regex = re.compile('Test(\\d{4})-(\\d{2})-(\\d{2}).log')\n",
    "\n",
    "def get_date(filename):\n",
    "    match = date_regex.search(filename)\n",
    "    if match:\n",
    "        return datetime.date(int(match.group(1)), int(match.group(2)), int(match.group(3)))"
   ]
  },
  {
   "cell_type": "code",
   "execution_count": 70,
   "metadata": {
    "collapsed": true
   },
   "outputs": [],
   "source": [
    "app_test_glob = \"appTest*.log\"\n",
    "cat_test_glob = \"catTest*.log\"\n",
    "unit_test_glob = \"unitTest*.log\"\n",
    "\n",
    "def get_test_data_frames(directory):\n",
    "    app_test_logs = glob.glob(os.path.join(directory, app_test_glob))\n",
    "    cat_logs = glob.glob(os.path.join(directory, cat_test_glob))\n",
    "    unit_logs = glob.glob(os.path.join(directory, unit_test_glob))\n",
    "    \n",
    "    app_results = {}\n",
    "    for log_file in app_test_logs:\n",
    "        app_results[get_date(log_file)] = parse_app_log(log_file)\n",
    "    app_df = pd.DataFrame.from_dict(app_results)\n",
    "    \n",
    "    cat_results = {}\n",
    "    for log_file in cat_logs:\n",
    "        cat_results[get_date(log_file)] = parse_cat_log(log_file)\n",
    "    cat_df = pd.DataFrame.from_dict(cat_results)\n",
    "        \n",
    "    unit_results = {}\n",
    "    for log_file in unit_logs:\n",
    "        unit_results[get_date(log_file)] = parse_unit_log(log_file)\n",
    "    unit_df = pd.DataFrame.from_dict(unit_results)\n",
    "    \n",
    "    return app_df, cat_df, unit_df"
   ]
  },
  {
   "cell_type": "code",
   "execution_count": 87,
   "metadata": {
    "collapsed": true
   },
   "outputs": [],
   "source": [
    "def compute_failure_frequencies(df):\n",
    "    return (df==False).sum(axis=1) / df.count(axis=1)"
   ]
  },
  {
   "cell_type": "code",
   "execution_count": 6,
   "metadata": {
    "collapsed": true
   },
   "outputs": [],
   "source": [
    "logs_dir = \"/usgs/cpkgs/isis3/logs/builds-tests/\"\n",
    "CentOS7 = \"Linux_x86_64_prog24\"\n",
    "Mac10_11 = \"Darwin_i386_prog26\""
   ]
  },
  {
   "cell_type": "code",
   "execution_count": 71,
   "metadata": {
    "scrolled": true
   },
   "outputs": [],
   "source": [
    "centos_app_df, centos_cat_df, centos_unit_df = get_test_data_frames(os.path.join(logs_dir, CentOS7))"
   ]
  },
  {
   "cell_type": "code",
   "execution_count": 93,
   "metadata": {
    "scrolled": true
   },
   "outputs": [],
   "source": [
    "centos_app_failure_frequencies = compute_failure_frequencies(centos_app_df)"
   ]
  },
  {
   "cell_type": "code",
   "execution_count": 101,
   "metadata": {},
   "outputs": [
    {
     "data": {
      "text/plain": [
       "<matplotlib.axes._subplots.AxesSubplot at 0x2b5430602fd0>"
      ]
     },
     "execution_count": 101,
     "metadata": {},
     "output_type": "execute_result"
    },
    {
     "data": {
      "image/png": "[encoded data removed]",
      "text/plain": [
       "<matplotlib.figure.Figure at 0x2b5430582be0>"
      ]
     },
     "metadata": {},
     "output_type": "display_data"
    }
   ],
   "source": [
    "centos_app_failure_frequencies.nlargest(30).plot(kind='bar')"
   ]
  },
  {
   "cell_type": "code",
   "execution_count": null,
   "metadata": {
    "collapsed": true
   },
   "outputs": [],
   "source": []
  }
 ],
 "metadata": {
  "kernelspec": {
   "display_name": "Python 3",
   "language": "python",
   "name": "python3"
  },
  "language_info": {
   "codemirror_mode": {
    "name": "ipython",
    "version": 3
   },
   "file_extension": ".py",
   "mimetype": "text/x-python",
   "name": "python",
   "nbconvert_exporter": "python",
   "pygments_lexer": "ipython3",
   "version": "3.5.3"
  }
 },
 "nbformat": 4,
 "nbformat_minor": 2
}
