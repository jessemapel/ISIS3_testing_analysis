{
 "cells": [
  {
   "cell_type": "code",
   "execution_count": 1,
   "metadata": {
    "collapsed": true
   },
   "outputs": [],
   "source": [
    "%matplotlib inline\n",
    "import matplotlib.pyplot as plt\n",
    "import pandas as pd\n",
    "import numpy as np\n",
    "import os, glob, re, datetime"
   ]
  },
  {
   "cell_type": "code",
   "execution_count": 2,
   "metadata": {},
   "outputs": [],
   "source": [
    "unit_test_regex = re.compile('Testing \\[(\\w*)\\]\\s*(Ok|Failed)')\n",
    "\n",
    "def parse_unit_log(filename):\n",
    "    results = {}\n",
    "    with open(filename) as fh:\n",
    "        for line in fh:\n",
    "            match = unit_test_regex.search(line)\n",
    "            if match:\n",
    "                results[match.group(1)] = (match.group(2) == 'Ok')\n",
    "    return results"
   ]
  },
  {
   "cell_type": "code",
   "execution_count": 3,
   "metadata": {
    "collapsed": true
   },
   "outputs": [],
   "source": [
    "app_test_regex = re.compile('Testing \\[(\\w*)\\]')\n",
    "app_test_case_regex = re.compile('(OK|Failed) ... Case \\[(\\w*)\\]')\n",
    "\n",
    "def parse_app_log(filename):\n",
    "    results = {}\n",
    "    with open(filename) as fh:\n",
    "        for line in fh:\n",
    "            app_match = app_test_regex.search(line)\n",
    "            if app_match:\n",
    "                current_app = app_match.group(1)\n",
    "            case_match = app_test_case_regex.search(line)\n",
    "            if case_match:\n",
    "                results['{}_{}'.format(current_app, case_match.group(2))] = (case_match.group(1) == 'OK')\n",
    "    return results"
   ]
  },
  {
   "cell_type": "code",
   "execution_count": 4,
   "metadata": {
    "collapsed": true
   },
   "outputs": [],
   "source": [
    "cat_package_regex = re.compile('Working on Package \\[(\\w*)\\]')\n",
    "cat_test_regex = re.compile('(OK|Failed) ... Case \\[(\\w*)\\]')\n",
    "\n",
    "def parse_cat_log(filename):\n",
    "    results = {}\n",
    "    with open(filename) as fh:\n",
    "        for line in fh:\n",
    "            package_match = cat_package_regex.search(line)\n",
    "            if package_match:\n",
    "                current_package = package_match.group(1)\n",
    "            test_match = cat_test_regex.search(line)\n",
    "            if test_match:\n",
    "                results['{}_{}'.format(current_package, test_match.group(2))] = (test_match.group(1) == 'OK')\n",
    "    return results"
   ]
  },
  {
   "cell_type": "code",
   "execution_count": 5,
   "metadata": {
    "collapsed": true
   },
   "outputs": [],
   "source": [
    "date_regex = re.compile('Test(\\d{4})-(\\d{2})-(\\d{2}).log')\n",
    "\n",
    "def get_date(filename):\n",
    "    match = date_regex.search(filename)\n",
    "    if match:\n",
    "        return datetime.date(int(match.group(1)), int(match.group(2)), int(match.group(3)))"
   ]
  },
  {
   "cell_type": "code",
   "execution_count": 6,
   "metadata": {
    "collapsed": true
   },
   "outputs": [],
   "source": [
    "app_test_glob = \"appTest*.log\"\n",
    "cat_test_glob = \"catTest*.log\"\n",
    "unit_test_glob = \"unitTest*.log\"\n",
    "\n",
    "def get_test_data_frames(directory):\n",
    "    app_test_logs = glob.glob(os.path.join(directory, app_test_glob))\n",
    "    cat_logs = glob.glob(os.path.join(directory, cat_test_glob))\n",
    "    unit_logs = glob.glob(os.path.join(directory, unit_test_glob))\n",
    "    \n",
    "    app_results = {}\n",
    "    for log_file in app_test_logs:\n",
    "        app_results[get_date(log_file)] = parse_app_log(log_file)\n",
    "    app_df = pd.DataFrame.from_dict(app_results)\n",
    "    app_df = app_df.reindex(sorted(app_df.columns), axis=1)\n",
    "    \n",
    "    cat_results = {}\n",
    "    for log_file in cat_logs:\n",
    "        cat_results[get_date(log_file)] = parse_cat_log(log_file)\n",
    "    cat_df = pd.DataFrame.from_dict(cat_results)\n",
    "    cat_df = cat_df.reindex(sorted(cat_df.columns), axis=1)\n",
    "        \n",
    "    unit_results = {}\n",
    "    for log_file in unit_logs:\n",
    "        unit_results[get_date(log_file)] = parse_unit_log(log_file)\n",
    "    unit_df = pd.DataFrame.from_dict(unit_results)\n",
    "    unit_df = unit_df.reindex(sorted(unit_df.columns), axis=1)\n",
    "    \n",
    "    return app_df, cat_df, unit_df"
   ]
  },
  {
   "cell_type": "code",
   "execution_count": 7,
   "metadata": {
    "collapsed": true
   },
   "outputs": [],
   "source": [
    "def compute_failure_frequencies(df):\n",
    "    return (df==False).sum(axis=1) / df.count(axis=1)"
   ]
  },
  {
   "cell_type": "code",
   "execution_count": 8,
   "metadata": {},
   "outputs": [],
   "source": [
    "def compute_log_failure_frequencies(df):\n",
    "    return (df==False).sum(axis=1) / np.log(df.count(axis=1))"
   ]
  },
  {
   "cell_type": "code",
   "execution_count": 9,
   "metadata": {},
   "outputs": [],
   "source": [
    "def compute_changes(df):\n",
    "    return (df != df.shift(axis=1)) & (df.notna() & df.shift(axis=1).notna())"
   ]
  },
  {
   "cell_type": "code",
   "execution_count": 10,
   "metadata": {},
   "outputs": [],
   "source": [
    "def compute_change_frequencies(df):\n",
    "    return compute_changes(df).sum(axis=1) / df.count(axis=1)"
   ]
  },
  {
   "cell_type": "code",
   "execution_count": 11,
   "metadata": {},
   "outputs": [],
   "source": [
    "def compute_log_change_frequencies(df):\n",
    "    return compute_changes(df).sum(axis=1) / np.log(df.count(axis=1))"
   ]
  },
  {
   "cell_type": "code",
   "execution_count": 12,
   "metadata": {},
   "outputs": [],
   "source": [
    "def compute_stats(df):\n",
    "    stats = pd.DataFrame(compute_failure_frequencies(df), columns=['freq'])\n",
    "    stats['log_freq'] = compute_log_failure_frequencies(df)\n",
    "    stats['change'] = compute_change_frequencies(df)\n",
    "    stats['log_change'] = compute_log_change_frequencies(df)\n",
    "    return stats"
   ]
  },
  {
   "cell_type": "code",
   "execution_count": 13,
   "metadata": {},
   "outputs": [],
   "source": [
    "def create_csvs(input_dir, output_dir):\n",
    "    app_df, cat_df, unit_df = get_test_data_frames(input_dir)\n",
    "    app_stats = compute_stats(app_df)\n",
    "    cat_stats = compute_stats(cat_df)\n",
    "    unit_stats = compute_stats(unit_df)\n",
    "    \n",
    "    app_df.to_csv( os.path.join(output_dir, 'app_tests.csv') )\n",
    "    cat_df.to_csv( os.path.join(output_dir, 'cat_tests.csv') )\n",
    "    unit_df.to_csv( os.path.join(output_dir, 'unit_tests.csv') )\n",
    "    app_stats.to_csv( os.path.join(output_dir, 'app_stats_tests.csv') )\n",
    "    cat_stats.to_csv( os.path.join(output_dir, 'cat_stats_tests.csv') )\n",
    "    unit_stats.to_csv( os.path.join(output_dir, 'unit_stats_tests.csv') )"
   ]
  },
  {
   "cell_type": "code",
   "execution_count": 14,
   "metadata": {},
   "outputs": [],
   "source": [
    "def process_all_data(input_dir, output_dir, sub_dirs):\n",
    "    for sub_dir in sub_dirs:\n",
    "        print ('processing {}'.format(sub_dir))\n",
    "        input_sub_dir = os.path.join(input_dir, sub_dir)\n",
    "        output_sub_dir = os.path.join(output_dir, sub_dir)\n",
    "        os.makedirs(name=output_sub_dir, exist_ok=True)\n",
    "        create_csvs(input_sub_dir, output_sub_dir)"
   ]
  },
  {
   "cell_type": "code",
   "execution_count": 15,
   "metadata": {},
   "outputs": [],
   "source": [
    "def compute_all_dataframes(input_dir, sub_dirs):\n",
    "    results = {}\n",
    "    for sub_dir in sub_dirs:\n",
    "        print ('processing {}'.format(sub_dir))\n",
    "        input_sub_dir = os.path.join(input_dir, sub_dir)\n",
    "        print('  parsing logs')\n",
    "        app_df, cat_df, unit_df = get_test_data_frames(input_sub_dir)\n",
    "        print('  computing stats')\n",
    "        app_stats = compute_stats(app_df)\n",
    "        cat_stats = compute_stats(cat_df)\n",
    "        unit_stats = compute_stats(unit_df)\n",
    "        results[sub_dir] = [app_df, cat_df, unit_df, app_stats, cat_stats, unit_stats]\n",
    "    return results"
   ]
  },
  {
   "cell_type": "code",
   "execution_count": 16,
   "metadata": {
    "collapsed": true
   },
   "outputs": [],
   "source": [
    "logs_dir = '/usgs/cpkgs/isis3/logs/builds-tests/'\n",
    "output_dir = '/work/users/jmapel/ISIS3_test_stats'\n",
    "\n",
    "Ubuntu_14 = 'Linux_x86_64_prog22'\n",
    "Debian = 'Linux_unknown_prog23'\n",
    "CentOS_7 = 'Linux_x86_64_prog24'\n",
    "Fedora_25 = 'Linux_x86_64_prog25'\n",
    "Mac10_11 = 'Darwin_i386_prog26'\n",
    "\n",
    "systems = [Ubuntu_14, Debian, CentOS_7, Fedora_25, Mac10_11]"
   ]
  },
  {
   "cell_type": "code",
   "execution_count": 17,
   "metadata": {},
   "outputs": [
    {
     "name": "stdout",
     "output_type": "stream",
     "text": [
      "processing Linux_x86_64_prog22\n",
      "  parsing logs\n",
      "  computing stats\n",
      "processing Linux_unknown_prog23\n",
      "  parsing logs\n",
      "  computing stats\n",
      "processing Linux_x86_64_prog24\n",
      "  parsing logs\n",
      "  computing stats\n",
      "processing Linux_x86_64_prog25\n",
      "  parsing logs\n",
      "  computing stats\n",
      "processing Darwin_i386_prog26\n",
      "  parsing logs\n",
      "  computing stats\n"
     ]
    }
   ],
   "source": [
    "frames = compute_all_dataframes(logs_dir, systems)"
   ]
  },
  {
   "cell_type": "code",
   "execution_count": 55,
   "metadata": {},
   "outputs": [],
   "source": [
    "app_freq_dict = {}\n",
    "for system in systems:\n",
    "    tests = frames[system][3]['log_freq'].nlargest(20).index.tolist()\n",
    "    for test in tests:\n",
    "        if test in app_freq_dict:\n",
    "            app_freq_dict[test] += 1\n",
    "        else:\n",
    "            app_freq_dict[test] = 1"
   ]
  },
  {
   "cell_type": "code",
   "execution_count": 56,
   "metadata": {},
   "outputs": [],
   "source": [
    "app_change_dict = {}\n",
    "for system in systems:\n",
    "    tests = frames[system][3]['log_change'].nlargest(20).index.tolist()\n",
    "    for test in tests:\n",
    "        if test in app_change_dict:\n",
    "            app_change_dict[test] += 1\n",
    "        else:\n",
    "            app_change_dict[test] = 1"
   ]
  },
  {
   "cell_type": "code",
   "execution_count": 57,
   "metadata": {},
   "outputs": [],
   "source": [
    "worst_app_tests_freq = pd.Series(app_freq_dict)\n",
    "worst_app_tests_change = pd.Series(app_change_dict)"
   ]
  },
  {
   "cell_type": "code",
   "execution_count": 58,
   "metadata": {},
   "outputs": [
    {
     "data": {
      "text/plain": [
       "isis2pds_pds4                     5\n",
       "tgocassis2isis_exportedFile       4\n",
       "tgocassismos_default              4\n",
       "hyb1pds4gen_amicaitokawa2diof     4\n",
       "hyb1pds4gen_mars                  4\n",
       "hyb1pds4gen_nirsitokawa3drefl     4\n",
       "findfeatures_getinfo              3\n",
       "tgocassisrdrgen_default           3\n",
       "ckwriter_lronac                   3\n",
       "edrget_http                       3\n",
       "photcorri_rolo                    3\n",
       "photcorri_minnaert                3\n",
       "photcorri_mcewen                  3\n",
       "photcorri_lommelSeeliger          3\n",
       "findfeatures_debug                3\n",
       "cnettable_default                 2\n",
       "tgocassisrdrgen_raw               2\n",
       "findfeatures_filters              2\n",
       "cnettable_allowErrors             2\n",
       "findfeatures_messenger            2\n",
       "findfeatures_geom                 2\n",
       "findfeatures_errors               2\n",
       "findfeatures_controlnet           2\n",
       "findfeatures_apollo               2\n",
       "chan1m32isis_forwardDescending    1\n",
       "catoriglab_XmlLabel               1\n",
       "chan1m32isis_l0                   1\n",
       "cnettable_append                  1\n",
       "tgocassis2isis_blu                1\n",
       "tgocassis2isis_errors             1\n",
       "chan1m32isis_forwardAscending     1\n",
       "apollopaninit_default             1\n",
       "deltack_directVIMS                1\n",
       "cnetcombinept_setapriori          1\n",
       "cnetcombinept_noclean             1\n",
       "cnetcombinept_messenger           1\n",
       "voy2isis_wideangle                1\n",
       "voy2isis_importIMQ                1\n",
       "gllnims2isis_default              1\n",
       "ckwriter_cassini                  1\n",
       "csv2table_errors                  1\n",
       "photomet_useDem                   1\n",
       "sumspice_dawn                     1\n",
       "amicacal_iof                      1\n",
       "amica2isis_subimage               1\n",
       "amica2isis_mars                   1\n",
       "amica2isis_lamp                   1\n",
       "amica2isis_itokawa                1\n",
       "pointreg_outputOptions            1\n",
       "tgocassis2isis_fileExtensions     1\n",
       "tgocassis2isis_red                1\n",
       "tgocassis2isis_pan                1\n",
       "tgocassis2isis_nir                1\n",
       "jigsaw_largeDataset               1\n",
       "dtype: int64"
      ]
     },
     "metadata": {},
     "output_type": "display_data"
    }
   ],
   "source": [
    "pd.options.display.max_rows = None\n",
    "display(worst_app_tests_freq.sort_values(ascending=False))"
   ]
  },
  {
   "cell_type": "code",
   "execution_count": 59,
   "metadata": {},
   "outputs": [
    {
     "data": {
      "text/plain": [
       "tgocassis2isis_nir             5\n",
       "cnetcombinept_messenger        5\n",
       "tgocassis2isis_blu             5\n",
       "tgocassisrdrgen_default        5\n",
       "cnetcombinept_noclean          5\n",
       "cnetcombinept_setapriori       5\n",
       "cnettable_append               5\n",
       "tgocassis2isis_pan             4\n",
       "tgocassis2isis_red             4\n",
       "ckwriter_lronac                3\n",
       "mdisedrinfo_kernelchk          3\n",
       "cnettable_allowErrors          3\n",
       "campt_pointlist_flat           3\n",
       "campt_pointlist_error          3\n",
       "cnettable_default              3\n",
       "campt_pointlist_no_append      2\n",
       "sumspice_dawn                  2\n",
       "cnetedit_checkValid            2\n",
       "findimageoverlaps_nooverlap    2\n",
       "isis2pds_pds4                  2\n",
       "tgocassis2isis_errors          2\n",
       "phocube_allbands               2\n",
       "gllnims2isis_default           2\n",
       "jigsaw_errors                  2\n",
       "edrget_timeout                 1\n",
       "cnetref_emission               1\n",
       "himos_case01                   1\n",
       "cnetcombinept_duplicates       1\n",
       "jigsaw_rejection               1\n",
       "jigsaw_mestimator              1\n",
       "jigsaw_camsolveAll             1\n",
       "jigsaw_apollo                  1\n",
       "photomet_useDem                1\n",
       "deltack_directVIMS             1\n",
       "deltack_directOffTarget        1\n",
       "cnetbin2pvl_default            1\n",
       "phocube_minirf_south           1\n",
       "apollopanstitcher_default      1\n",
       "apollopaninit_default          1\n",
       "apollocal_default              1\n",
       "thmbasemap1_nightonly          1\n",
       "photcorri_mcewen               1\n",
       "hijitter_default               1\n",
       "photrim_usedem                 1\n",
       "shadow_mars                    1\n",
       "dtype: int64"
      ]
     },
     "metadata": {},
     "output_type": "display_data"
    }
   ],
   "source": [
    "display(worst_app_tests_change.sort_values(ascending=False))"
   ]
  },
  {
   "cell_type": "code",
   "execution_count": null,
   "metadata": {},
   "outputs": [],
   "source": []
  }
 ],
 "metadata": {
  "kernelspec": {
   "display_name": "Python 3",
   "language": "python",
   "name": "python3"
  },
  "language_info": {
   "codemirror_mode": {
    "name": "ipython",
    "version": 3
   },
   "file_extension": ".py",
   "mimetype": "text/x-python",
   "name": "python",
   "nbconvert_exporter": "python",
   "pygments_lexer": "ipython3",
   "version": "3.7.1"
  }
 },
 "nbformat": 4,
 "nbformat_minor": 2
}
