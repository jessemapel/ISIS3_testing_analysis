{
 "cells": [
  {
   "cell_type": "code",
   "execution_count": 16,
   "metadata": {
    "collapsed": true
   },
   "outputs": [],
   "source": [
    "import pandas as pd\n",
    "import os, glob, re"
   ]
  },
  {
   "cell_type": "code",
   "execution_count": 30,
   "metadata": {},
   "outputs": [],
   "source": [
    "unit_test_regex = re.compile('Testing \\[(\\w*)\\]\\s*(Ok|Failed)')\n",
    "\n",
    "def parse_unit_log(filename):\n",
    "    results = {}\n",
    "    with open(filename) as fh:\n",
    "        for line in fh:\n",
    "            match = unit_test_regex.search(line)\n",
    "            if match:\n",
    "                results[match.group(1)] = match.group(2)\n",
    "    return results"
   ]
  },
  {
   "cell_type": "code",
   "execution_count": 49,
   "metadata": {
    "collapsed": true
   },
   "outputs": [],
   "source": [
    "app_test_regex = re.compile('Testing \\[(\\w*)\\]')\n",
    "app_test_case_regex = re.compile('(OK|Failed) ... Case \\[(\\w*)\\]')\n",
    "\n",
    "def parse_app_log(filename):\n",
    "    results = {}\n",
    "    with open(filename) as fh:\n",
    "        for line in fh:\n",
    "            app_match = app_test_regex.search(line)\n",
    "            if app_match:\n",
    "                current_app = app_match.group(1)\n",
    "                results[current_app] = {}\n",
    "            case_match = app_test_case_regex.search(line)\n",
    "            if case_match:\n",
    "                results[current_app][case_match.group(2)] = case_match.group(1)\n",
    "    return results"
   ]
  },
  {
   "cell_type": "code",
   "execution_count": 51,
   "metadata": {
    "collapsed": true
   },
   "outputs": [],
   "source": [
    "cat_package_regex = re.compile('Working on Package \\[(\\w*)\\]')\n",
    "cat_test_regex = re.compile('(OK|Failed) ... Case \\[(\\w*)\\]')\n",
    "\n",
    "def parse_cat_log(filename):\n",
    "    results = {}\n",
    "    with open(filename) as fh:\n",
    "        for line in fh:\n",
    "            package_match = cat_package_regex.search(line)\n",
    "            if package_match:\n",
    "                current_package = package_match.group(1)\n",
    "                results[current_package] = {}\n",
    "            test_match = cat_test_regex.search(line)\n",
    "            if test_match:\n",
    "                results[current_package][test_match.group(2)] = test_match.group(1)\n",
    "    return results"
   ]
  },
  {
   "cell_type": "code",
   "execution_count": 6,
   "metadata": {
    "collapsed": true
   },
   "outputs": [],
   "source": [
    "logs_dir = \"/usgs/cpkgs/isis3/logs/builds-tests/\"\n",
    "CentOS7 = \"Linux_x86_64_prog24\"\n",
    "Mac10_11 = \"Darwin_i386_prog26\"\n",
    "app_test_glob = \"appTest*.log\"\n",
    "cat_test_glob = \"catTest*.log\"\n",
    "unit_test_glob = \"unitTest*.log\""
   ]
  },
  {
   "cell_type": "code",
   "execution_count": 15,
   "metadata": {},
   "outputs": [],
   "source": [
    "centos_log_dir = os.path.join(logs_dir, CentOS7)\n",
    "centos_app_logs = glob.glob(os.path.join(centos_log_dir, app_test_glob))\n",
    "centos_cat_logs = glob.glob(os.path.join(centos_log_dir, cat_test_glob))\n",
    "centos_unit_logs = glob.glob(os.path.join(centos_log_dir, unit_test_glob))\n",
    "\n",
    "mac_log_dir = os.path.join(logs_dir, Mac10_11)\n",
    "mac_app_logs = glob.glob(os.path.join(mac_log_dir, app_test_glob))\n",
    "mac_cat_logs = glob.glob(os.path.join(mac_log_dir, cat_test_glob))\n",
    "mac_unit_logs = glob.glob(os.path.join(mac_log_dir, unit_test_glob))"
   ]
  }
 ],
 "metadata": {
  "kernelspec": {
   "display_name": "Python 3",
   "language": "python",
   "name": "python3"
  },
  "language_info": {
   "codemirror_mode": {
    "name": "ipython",
    "version": 3
   },
   "file_extension": ".py",
   "mimetype": "text/x-python",
   "name": "python",
   "nbconvert_exporter": "python",
   "pygments_lexer": "ipython3",
   "version": "3.5.3"
  }
 },
 "nbformat": 4,
 "nbformat_minor": 2
}
