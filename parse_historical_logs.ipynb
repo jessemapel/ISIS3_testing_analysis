{
 "cells": [
  {
   "cell_type": "code",
   "execution_count": 1,
   "metadata": {
    "collapsed": true
   },
   "outputs": [],
   "source": [
    "%matplotlib inline\n",
    "import matplotlib.pyplot as plt\n",
    "import pandas as pd\n",
    "import numpy as np\n",
    "import os, glob, re, datetime"
   ]
  },
  {
   "cell_type": "code",
   "execution_count": 2,
   "metadata": {},
   "outputs": [],
   "source": [
    "unit_test_regex = re.compile('Testing \\[(\\w*)\\]\\s*(Ok|Failed)')\n",
    "\n",
    "def parse_unit_log(filename):\n",
    "    results = {}\n",
    "    with open(filename) as fh:\n",
    "        for line in fh:\n",
    "            match = unit_test_regex.search(line)\n",
    "            if match:\n",
    "                results[match.group(1)] = (match.group(2) == 'Ok')\n",
    "    return results"
   ]
  },
  {
   "cell_type": "code",
   "execution_count": 3,
   "metadata": {
    "collapsed": true
   },
   "outputs": [],
   "source": [
    "app_test_regex = re.compile('Testing \\[(\\w*)\\]')\n",
    "app_test_case_regex = re.compile('(OK|Failed) ... Case \\[(\\w*)\\]')\n",
    "\n",
    "def parse_app_log(filename):\n",
    "    results = {}\n",
    "    with open(filename) as fh:\n",
    "        for line in fh:\n",
    "            app_match = app_test_regex.search(line)\n",
    "            if app_match:\n",
    "                current_app = app_match.group(1)\n",
    "            case_match = app_test_case_regex.search(line)\n",
    "            if case_match:\n",
    "                results['{}_{}'.format(current_app, case_match.group(2))] = (case_match.group(1) == 'OK')\n",
    "    return results"
   ]
  },
  {
   "cell_type": "code",
   "execution_count": 4,
   "metadata": {
    "collapsed": true
   },
   "outputs": [],
   "source": [
    "cat_package_regex = re.compile('Working on Package \\[(\\w*)\\]')\n",
    "cat_test_regex = re.compile('(OK|Failed) ... Case \\[(\\w*)\\]')\n",
    "\n",
    "def parse_cat_log(filename):\n",
    "    results = {}\n",
    "    with open(filename) as fh:\n",
    "        for line in fh:\n",
    "            package_match = cat_package_regex.search(line)\n",
    "            if package_match:\n",
    "                current_package = package_match.group(1)\n",
    "            test_match = cat_test_regex.search(line)\n",
    "            if test_match:\n",
    "                results['{}_{}'.format(current_package, test_match.group(2))] = (test_match.group(1) == 'OK')\n",
    "    return results"
   ]
  },
  {
   "cell_type": "code",
   "execution_count": 5,
   "metadata": {
    "collapsed": true
   },
   "outputs": [],
   "source": [
    "date_regex = re.compile('Test(\\d{4})-(\\d{2})-(\\d{2}).log')\n",
    "\n",
    "def get_date(filename):\n",
    "    match = date_regex.search(filename)\n",
    "    if match:\n",
    "        return datetime.date(int(match.group(1)), int(match.group(2)), int(match.group(3)))"
   ]
  },
  {
   "cell_type": "code",
   "execution_count": 6,
   "metadata": {
    "collapsed": true
   },
   "outputs": [],
   "source": [
    "app_test_glob = \"appTest*.log\"\n",
    "cat_test_glob = \"catTest*.log\"\n",
    "unit_test_glob = \"unitTest*.log\"\n",
    "\n",
    "def get_test_data_frames(directory):\n",
    "    app_test_logs = glob.glob(os.path.join(directory, app_test_glob))\n",
    "    cat_logs = glob.glob(os.path.join(directory, cat_test_glob))\n",
    "    unit_logs = glob.glob(os.path.join(directory, unit_test_glob))\n",
    "    \n",
    "    app_results = {}\n",
    "    for log_file in app_test_logs:\n",
    "        app_results[get_date(log_file)] = parse_app_log(log_file)\n",
    "    app_df = pd.DataFrame.from_dict(app_results)\n",
    "    app_df = app_df.reindex(sorted(app_df.columns), axis=1)\n",
    "    \n",
    "    cat_results = {}\n",
    "    for log_file in cat_logs:\n",
    "        cat_results[get_date(log_file)] = parse_cat_log(log_file)\n",
    "    cat_df = pd.DataFrame.from_dict(cat_results)\n",
    "    cat_df = cat_df.reindex(sorted(cat_df.columns), axis=1)\n",
    "        \n",
    "    unit_results = {}\n",
    "    for log_file in unit_logs:\n",
    "        unit_results[get_date(log_file)] = parse_unit_log(log_file)\n",
    "    unit_df = pd.DataFrame.from_dict(unit_results)\n",
    "    unit_df = unit_df.reindex(sorted(unit_df.columns), axis=1)\n",
    "    \n",
    "    return app_df, cat_df, unit_df"
   ]
  },
  {
   "cell_type": "code",
   "execution_count": 7,
   "metadata": {
    "collapsed": true
   },
   "outputs": [],
   "source": [
    "def compute_failure_frequencies(df):\n",
    "    return (df==False).sum(axis=1) / df.count(axis=1)"
   ]
  },
  {
   "cell_type": "code",
   "execution_count": 8,
   "metadata": {},
   "outputs": [],
   "source": [
    "def compute_log_failure_frequencies(df):\n",
    "    return (df==False).sum(axis=1) / np.log(df.count(axis=1))"
   ]
  },
  {
   "cell_type": "code",
   "execution_count": 9,
   "metadata": {},
   "outputs": [],
   "source": [
    "def compute_changes(df):\n",
    "    return (df != df.shift(axis=1)) & (df.notna() & df.shift(axis=1).notna())"
   ]
  },
  {
   "cell_type": "code",
   "execution_count": 10,
   "metadata": {},
   "outputs": [],
   "source": [
    "def compute_change_frequencies(df):\n",
    "    return compute_changes(df).sum(axis=1) / df.count(axis=1)"
   ]
  },
  {
   "cell_type": "code",
   "execution_count": 11,
   "metadata": {},
   "outputs": [],
   "source": [
    "def compute_log_change_frequencies(df):\n",
    "    return compute_changes(df).sum(axis=1) / np.log(df.count(axis=1))"
   ]
  },
  {
   "cell_type": "code",
   "execution_count": 12,
   "metadata": {},
   "outputs": [],
   "source": [
    "def compute_stats(df):\n",
    "    stats = pd.DataFrame(compute_failure_frequencies(df), columns=['freq'])\n",
    "    stats['log_freq'] = compute_log_failure_frequencies(df)\n",
    "    stats['change'] = compute_change_frequencies(df)\n",
    "    stats['log_change'] = compute_log_change_frequencies(df)\n",
    "    return stats"
   ]
  },
  {
   "cell_type": "code",
   "execution_count": 13,
   "metadata": {},
   "outputs": [],
   "source": [
    "def create_csvs(input_dir, output_dir):\n",
    "    app_df, cat_df, unit_df = get_test_data_frames(input_dir)\n",
    "    app_stats = compute_stats(app_df)\n",
    "    cat_stats = compute_stats(cat_df)\n",
    "    unit_stats = compute_stats(unit_df)\n",
    "    \n",
    "    app_df.to_csv( os.path.join(output_dir, 'app_tests.csv') )\n",
    "    cat_df.to_csv( os.path.join(output_dir, 'cat_tests.csv') )\n",
    "    unit_df.to_csv( os.path.join(output_dir, 'unit_tests.csv') )\n",
    "    app_stats.to_csv( os.path.join(output_dir, 'app_stats_tests.csv') )\n",
    "    cat_stats.to_csv( os.path.join(output_dir, 'cat_stats_tests.csv') )\n",
    "    unit_stats.to_csv( os.path.join(output_dir, 'unit_stats_tests.csv') )"
   ]
  },
  {
   "cell_type": "code",
   "execution_count": 14,
   "metadata": {},
   "outputs": [],
   "source": [
    "def process_all_data(input_dir, output_dir, sub_dirs):\n",
    "    for sub_dir in sub_dirs:\n",
    "        print ('processing {}'.format(sub_dir))\n",
    "        input_sub_dir = os.path.join(input_dir, sub_dir)\n",
    "        output_sub_dir = os.path.join(output_dir, sub_dir)\n",
    "        os.makedirs(name=output_sub_dir, exist_ok=True)\n",
    "        create_csvs(input_sub_dir, output_sub_dir)"
   ]
  },
  {
   "cell_type": "code",
   "execution_count": 15,
   "metadata": {},
   "outputs": [],
   "source": [
    "def compute_all_dataframes(input_dir, sub_dirs):\n",
    "    results = {}\n",
    "    for sub_dir in sub_dirs:\n",
    "        print ('processing {}'.format(sub_dir))\n",
    "        input_sub_dir = os.path.join(input_dir, sub_dir)\n",
    "        print('  parsing logs')\n",
    "        app_df, cat_df, unit_df = get_test_data_frames(input_sub_dir)\n",
    "        print('  computing stats')\n",
    "        app_stats = compute_stats(app_df)\n",
    "        cat_stats = compute_stats(cat_df)\n",
    "        unit_stats = compute_stats(unit_df)\n",
    "        results[sub_dir] = [app_df, cat_df, unit_df, app_stats, cat_stats, unit_stats]\n",
    "    return results"
   ]
  },
  {
   "cell_type": "code",
   "execution_count": 16,
   "metadata": {
    "collapsed": true
   },
   "outputs": [],
   "source": [
    "logs_dir = '/usgs/cpkgs/isis3/logs/builds-tests/'\n",
    "output_dir = '/work/users/jmapel/ISIS3_test_stats'\n",
    "\n",
    "Ubuntu_14 = 'Linux_x86_64_prog22'\n",
    "Debian = 'Linux_unknown_prog23'\n",
    "CentOS_7 = 'Linux_x86_64_prog24'\n",
    "Fedora_25 = 'Linux_x86_64_prog25'\n",
    "Mac10_11 = 'Darwin_i386_prog26'\n",
    "\n",
    "systems = [Ubuntu_14, Debian, CentOS_7, Fedora_25, Mac10_11]"
   ]
  },
  {
   "cell_type": "code",
   "execution_count": 17,
   "metadata": {},
   "outputs": [
    {
     "name": "stdout",
     "output_type": "stream",
     "text": [
      "processing Linux_x86_64_prog22\n",
      "  parsing logs\n",
      "  computing stats\n",
      "processing Linux_unknown_prog23\n",
      "  parsing logs\n",
      "  computing stats\n",
      "processing Linux_x86_64_prog24\n",
      "  parsing logs\n",
      "  computing stats\n",
      "processing Linux_x86_64_prog25\n",
      "  parsing logs\n",
      "  computing stats\n",
      "processing Darwin_i386_prog26\n",
      "  parsing logs\n",
      "  computing stats\n"
     ]
    }
   ],
   "source": [
    "frames = compute_all_dataframes(logs_dir, systems)"
   ]
  },
  {
   "cell_type": "code",
   "execution_count": 36,
   "metadata": {},
   "outputs": [],
   "source": [
    "app_dict = {}\n",
    "metrics = ['freq', 'log_freq', 'change', 'log_change']\n",
    "for system in systems:\n",
    "    for metric in metrics:\n",
    "        tests = frames[system][3][metric].nlargest(10).index.tolist()\n",
    "        for test in tests:\n",
    "            if test in app_dict:\n",
    "                app_dict[test] += 1\n",
    "            else:\n",
    "                app_dict[test] = 1"
   ]
  },
  {
   "cell_type": "code",
   "execution_count": 37,
   "metadata": {},
   "outputs": [],
   "source": [
    "worst_app_tests = pd.Series(app_dict)"
   ]
  },
  {
   "cell_type": "code",
   "execution_count": 38,
   "metadata": {},
   "outputs": [
    {
     "data": {
      "text/plain": [
       "tgocassisrdrgen_default          13\n",
       "isis2pds_pds4                    12\n",
       "tgocassis2isis_exportedFile      11\n",
       "hyb1pds4gen_nirsitokawa3drefl    10\n",
       "hyb1pds4gen_mars                 10\n",
       "hyb1pds4gen_amicaitokawa2diof    10\n",
       "tgocassismos_default              9\n",
       "photcorri_mcewen                  9\n",
       "photcorri_lommelSeeliger          8\n",
       "tgocassisrdrgen_raw               7\n",
       "photcorri_rolo                    6\n",
       "photcorri_minnaert                6\n",
       "csv2table_errors                  6\n",
       "tgocassis2isis_errors             6\n",
       "tgocassis2isis_blu                5\n",
       "ckwriter_lronac                   4\n",
       "sumspice_dawn                     4\n",
       "findimageoverlaps_nooverlap       4\n",
       "photomet_useDem                   4\n",
       "cnettable_append                  4\n",
       "cnettable_allowErrors             3\n",
       "edrget_http                       3\n",
       "tgocassis2isis_default            3\n",
       "cnetcombinept_messenger           3\n",
       "mdisedrinfo_kernelchk             3\n",
       "cnetcombinept_noclean             3\n",
       "findfeatures_debug                2\n",
       "cnetcombinept_setapriori          2\n",
       "cnettable_default                 2\n",
       "tgocassis2isis_fileExtensions     2\n",
       "himos_case01                      2\n",
       "tgocassis2isis_red                2\n",
       "tgocassis2isis_pan                2\n",
       "jigsaw_largeDataset               2\n",
       "findfeatures_getinfo              2\n",
       "tgocassis2isis_nir                2\n",
       "cnetedit_checkValid               1\n",
       "ckwriter_cassini                  1\n",
       "campt_pointlist_flat              1\n",
       "campt_pointlist_error             1\n",
       "edrget_timeout                    1\n",
       "catoriglab_XmlLabel               1\n",
       "shadow_mars                       1\n",
       "phocube_minirf_south              1\n",
       "gllnims2isis_default              1\n",
       "findfeatures_apollo               1\n",
       "deltack_directVIMS                1\n",
       "deltack_directOffTarget           1\n",
       "findfeatures_geom                 1\n",
       "tgocassis2isis_badfile            1\n",
       "dtype: int64"
      ]
     },
     "execution_count": 38,
     "metadata": {},
     "output_type": "execute_result"
    }
   ],
   "source": [
    "worst_app_tests.sort_values(ascending=False)"
   ]
  },
  {
   "cell_type": "code",
   "execution_count": null,
   "metadata": {},
   "outputs": [],
   "source": []
  }
 ],
 "metadata": {
  "kernelspec": {
   "display_name": "Python 3",
   "language": "python",
   "name": "python3"
  },
  "language_info": {
   "codemirror_mode": {
    "name": "ipython",
    "version": 3
   },
   "file_extension": ".py",
   "mimetype": "text/x-python",
   "name": "python",
   "nbconvert_exporter": "python",
   "pygments_lexer": "ipython3",
   "version": "3.7.1"
  }
 },
 "nbformat": 4,
 "nbformat_minor": 2
}
